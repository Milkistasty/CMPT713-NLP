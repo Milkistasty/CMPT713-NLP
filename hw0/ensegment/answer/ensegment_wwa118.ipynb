{
 "cells": [
  {
   "cell_type": "markdown",
   "metadata": {},
   "source": [
    "# ensegment: default program"
   ]
  },
  {
   "cell_type": "code",
   "execution_count": 31,
   "metadata": {},
   "outputs": [],
   "source": [
    "# from default import *\n",
    "from ensegment import *"
   ]
  },
  {
   "cell_type": "code",
   "execution_count": 33,
   "metadata": {},
   "outputs": [
    {
     "name": "stdout",
     "output_type": "stream",
     "text": [
      "/Users/wenhe/nlpclass-1247-g-nlp_for_cv/hw0/ensegment\n"
     ]
    },
    {
     "name": "stderr",
     "output_type": "stream",
     "text": [
      "/Users/wenhe/nlpclass-1247-g-nlp_for_cv/hw0/ensegment/venv/lib/python3.11/site-packages/IPython/core/magics/osm.py:417: UserWarning: This is now an optional IPython functionality, setting dhist requires you to install the `pickleshare` library.\n",
      "  self.shell.db['dhist'] = compress_dhist(dhist)[-100:]\n"
     ]
    }
   ],
   "source": [
    "cd .."
   ]
  },
  {
   "cell_type": "code",
   "execution_count": 34,
   "metadata": {},
   "outputs": [
    {
     "data": {
      "text/plain": [
       "'/Users/wenhe/nlpclass-1247-g-nlp_for_cv/hw0/ensegment'"
      ]
     },
     "execution_count": 34,
     "metadata": {},
     "output_type": "execute_result"
    }
   ],
   "source": [
    "pwd"
   ]
  },
  {
   "cell_type": "markdown",
   "metadata": {},
   "source": [
    "## Documentation\n",
    "\n",
    "Write some beautiful documentation of your program here."
   ]
  },
  {
   "cell_type": "code",
   "execution_count": 44,
   "metadata": {},
   "outputs": [
    {
     "name": "stdout",
     "output_type": "stream",
     "text": [
      "['how to breakup in 5 words', 'what makes god smile', '10 people who mean alot to me', 'worst day in 4 words', 'love story in 5 words', 'to p3 favourite comics', '10 breakup lines', 'things that make you smile', 'best female athlete', 'worst bossin5 words', 'now is the time for all good', 'it is a truth universally acknowledged', 'when in the course of human events it becomes necessary', 'it was a bright cold day in april and the clocks were striking thirteen', 'it was the best of times it was the worst of times it was the age of wisdom it was the age of foolishness', 'as gregor samsa awoke one morning from uneasy dreams he found himself transformed in his bed into a gigantic insect', 'in a hole in the ground there lived a hobbit not a nasty dirty wet hole filled with the ends of worms and an oozy smell nor yet a dry bare sandy hole with nothing in it to sitdown on or to eat it was a hobbit hole and that means comfort', 'far out in the uncharted backwaters of the unfashionable end of the western spiral arm of the galaxy lies a small un regarded yellow sun']\n"
     ]
    }
   ],
   "source": [
    "Pw = Pdist(data=datafile(\"data/count_1w.txt\"), missingfn=avoid_long_words)\n",
    "segmenter = Segment(Pw)\n",
    "output = []\n",
    "with open(\"data/input/test.txt\") as f:\n",
    "    for line in f:\n",
    "        # print(\" \".join(segmenter.segment(line.strip())))\n",
    "        seg_line = \" \".join(segmenter.segment(line.strip()))\n",
    "        output.append(seg_line)\n",
    "\n",
    "print(output)"
   ]
  },
  {
   "cell_type": "markdown",
   "metadata": {},
   "source": [
    "## Analysis\n",
    "\n",
    "Do some analysis of the results. What ideas did you try? What worked and what did not?"
   ]
  },
  {
   "cell_type": "markdown",
   "metadata": {},
   "source": [
    "### Evaluate the output"
   ]
  },
  {
   "cell_type": "code",
   "execution_count": 45,
   "metadata": {},
   "outputs": [
    {
     "name": "stderr",
     "output_type": "stream",
     "text": [
      "score: 0.91\n"
     ]
    }
   ],
   "source": [
    "from ensegment_check import fscore\n",
    "with open('data/reference/test.out', 'r') as refh:\n",
    "    ref_data = [str(x).strip() for x in refh.read().splitlines()]\n",
    "    tally = fscore(ref_data, output)\n",
    "    print(\"score: {:.2f}\".format(tally), file=sys.stderr)"
   ]
  }
 ],
 "metadata": {
  "kernelspec": {
   "display_name": "Python 3",
   "language": "python",
   "name": "python3"
  },
  "language_info": {
   "codemirror_mode": {
    "name": "ipython",
    "version": 3
   },
   "file_extension": ".py",
   "mimetype": "text/x-python",
   "name": "python",
   "nbconvert_exporter": "python",
   "pygments_lexer": "ipython3",
   "version": "3.11.6"
  }
 },
 "nbformat": 4,
 "nbformat_minor": 2
}
