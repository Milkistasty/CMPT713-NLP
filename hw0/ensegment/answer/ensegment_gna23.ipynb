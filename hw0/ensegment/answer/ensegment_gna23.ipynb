{
 "cells": [
  {
   "cell_type": "markdown",
   "metadata": {},
   "source": [
    "# ensegment: default program"
   ]
  },
  {
   "cell_type": "code",
   "execution_count": 1,
   "metadata": {},
   "outputs": [],
   "source": [
    "from default import *"
   ]
  },
  {
   "cell_type": "markdown",
   "metadata": {},
   "source": [
    "## Documentation\n",
    "\n",
    "Write some beautiful documentation of your program here."
   ]
  },
  {
   "cell_type": "code",
   "execution_count": null,
   "metadata": {},
   "outputs": [],
   "source": []
  },
  {
   "cell_type": "markdown",
   "metadata": {},
   "source": [
    "GOUTTHAM (USERNAME : GNA23)"
   ]
  },
  {
   "cell_type": "code",
   "execution_count": 2,
   "metadata": {
    "scrolled": true
   },
   "outputs": [
    {
     "name": "stdout",
     "output_type": "stream",
     "text": [
      "output :  choose spain\n",
      "output :  this is a test\n",
      "output :  who represents\n",
      "output :  experts exchange\n",
      "output :  speed of art\n",
      "output :  unclimatechangebody\n",
      "output :  we are the people\n",
      "output :  mentionyourfaves\n",
      "output :  now playing\n",
      "output :  the walking dead\n",
      "output :  follow me\n",
      "output :  we are the people\n",
      "output :  mentionyourfaves\n",
      "output :  check domain\n",
      "output :  big rock\n",
      "output :  name cheap\n",
      "output :  apple domains\n",
      "output :  honesty hour\n",
      "output :  being human\n",
      "output :  follow back\n",
      "output :  social media\n",
      "output :  30secondstoearth\n",
      "output :  current ratesoughttogodown\n",
      "output :  this is insane\n",
      "output :  what is my name\n",
      "output :  is it time\n",
      "output :  let us go\n",
      "output :  me too\n",
      "output :  nowthatcherisdead\n",
      "output :  advice for young journalists\n"
     ]
    }
   ],
   "source": [
    "Pw = Pdist(data=datafile(\"../data/count_1w.txt\"))\n",
    "segmenter = Segment(Pw)\n",
    "with open(\"../data/input/dev.txt\") as f:\n",
    "    for line in f:\n",
    "        # print(\"input : \",line)\n",
    "        print(\"output : \",\" \".join(segmenter.segment(line.strip())))\n",
    "        # print(\"******\")"
   ]
  },
  {
   "cell_type": "markdown",
   "metadata": {},
   "source": [
    "## Analysis\n",
    "\n",
    "Do some analysis of the results. What ideas did you try? What worked and what did not?"
   ]
  },
  {
   "cell_type": "code",
   "execution_count": 3,
   "metadata": {},
   "outputs": [
    {
     "data": {
      "text/plain": [
       "[('h', 'owtobreakupinfivewords'),\n",
       " ('ho', 'wtobreakupinfivewords'),\n",
       " ('how', 'tobreakupinfivewords'),\n",
       " ('howt', 'obreakupinfivewords'),\n",
       " ('howto', 'breakupinfivewords'),\n",
       " ('howtob', 'reakupinfivewords'),\n",
       " ('howtobr', 'eakupinfivewords'),\n",
       " ('howtobre', 'akupinfivewords'),\n",
       " ('howtobrea', 'kupinfivewords'),\n",
       " ('howtobreak', 'upinfivewords'),\n",
       " ('howtobreaku', 'pinfivewords'),\n",
       " ('howtobreakup', 'infivewords'),\n",
       " ('howtobreakupi', 'nfivewords'),\n",
       " ('howtobreakupin', 'fivewords'),\n",
       " ('howtobreakupinf', 'ivewords'),\n",
       " ('howtobreakupinfi', 'vewords'),\n",
       " ('howtobreakupinfiv', 'ewords'),\n",
       " ('howtobreakupinfive', 'words'),\n",
       " ('howtobreakupinfivew', 'ords'),\n",
       " ('howtobreakupinfivewo', 'rds')]"
      ]
     },
     "execution_count": 3,
     "metadata": {},
     "output_type": "execute_result"
    }
   ],
   "source": [
    "# understanding how the splits function works and why L=20 \n",
    "segmenter.splits(\"howtobreakupinfivewords\")"
   ]
  },
  {
   "cell_type": "markdown",
   "metadata": {},
   "source": [
    "Debugging a failed case \"mentionyourfaves\""
   ]
  },
  {
   "cell_type": "code",
   "execution_count": 4,
   "metadata": {
    "scrolled": true
   },
   "outputs": [
    {
     "name": "stdout",
     "output_type": "stream",
     "text": [
      "[['s']]\n",
      "Pwords ['s'] 0.0009608922088267563\n",
      "[['e', 's'], ['es']]\n",
      "Pwords ['e', 's'] 9.689991677858433e-07\n",
      "Pwords ['es'] 5.299811490519699e-05\n",
      "[['v', 'es'], ['ve', 's'], ['ves']]\n",
      "Pwords ['v', 'es'] 1.842710082610865e-08\n",
      "Pwords ['ve', 's'] 1.2357429208899589e-08\n",
      "Pwords ['ves'] 5.858201178833472e-07\n",
      "[['a', 'ves'], ['av', 'es'], ['ave', 's'], ['aves']]\n",
      "Pwords ['a', 'ves'] 9.04559725564457e-09\n",
      "Pwords ['av', 'es'] 1.354983254714372e-09\n",
      "Pwords ['ave', 's'] 5.670435976404189e-08\n",
      "Pwords ['aves'] 6.680799506523793e-07\n",
      "[['f', 'aves'], ['fa', 'ves'], ['fav', 'es'], ['fave', 's'], ['faves']]\n",
      "Pwords ['f', 'aves'] 3.3770184882538296e-10\n",
      "Pwords ['fa', 'ves'] 9.229612801953677e-12\n",
      "Pwords ['fav', 'es'] 2.3202864547749462e-10\n",
      "Pwords ['fave', 's'] 6.17309342863184e-09\n",
      "Pwords ['faves'] 8.886779052116188e-07\n",
      "[['r', 'faves'], ['rf', 'aves'], ['rfa', 'ves'], ['rfav', 'es'], ['rfave', 's'], ['rfaves']]\n",
      "Pwords ['r', 'faves'] 4.888724704306021e-10\n",
      "Pwords ['rf', 'aves'] 1.5369887319232913e-11\n",
      "Pwords ['rfa', 'ves'] 9.065444496016324e-13\n",
      "Pwords ['rfav', 'es'] 9.011381114069015e-17\n",
      "Pwords ['rfave', 's'] 1.6338252631752372e-15\n",
      "Pwords ['rfaves'] 1.7003210642847526e-12\n",
      "[['u', 'r', 'faves'], ['ur', 'faves'], ['urf', 'aves'], ['urfa', 'ves'], ['urfav', 'es'], ['urfave', 's'], ['urfaves']]\n",
      "Pwords ['u', 'r', 'faves'] 1.4930368913664693e-13\n",
      "Pwords ['ur', 'faves'] 1.2033017754182608e-11\n",
      "Pwords ['urf', 'aves'] 3.374113510903875e-14\n",
      "Pwords ['urfa', 'ves'] 2.0904778942973333e-14\n",
      "Pwords ['urfav', 'es'] 9.011381114069015e-17\n",
      "Pwords ['urfave', 's'] 1.6338252631752372e-15\n",
      "Pwords ['urfaves'] 1.7003210642847526e-12\n",
      "[['o', 'ur', 'faves'], ['ou', 'r', 'faves'], ['our', 'faves'], ['ourf', 'aves'], ['ourfa', 'ves'], ['ourfav', 'es'], ['ourfave', 's'], ['ourfaves']]\n",
      "Pwords ['o', 'ur', 'faves'] 5.041952365119459e-15\n",
      "Pwords ['ou', 'r', 'faves'] 6.32881652522977e-15\n",
      "Pwords ['our', 'faves'] 1.5091610254971824e-09\n",
      "Pwords ['ourf', 'aves'] 1.1359504127205585e-18\n",
      "Pwords ['ourfa', 'ves'] 9.960822863188322e-19\n",
      "Pwords ['ourfav', 'es'] 9.011381114069015e-17\n",
      "Pwords ['ourfave', 's'] 1.6338252631752372e-15\n",
      "Pwords ['ourfaves'] 1.7003210642847526e-12\n",
      "[['y', 'our', 'faves'], ['yo', 'ur', 'faves'], ['you', 'r', 'faves'], ['your', 'faves'], ['yourf', 'aves'], ['yourfa', 'ves'], ['yourfav', 'es'], ['yourfave', 's'], ['yourfaves']]\n",
      "Pwords ['y', 'our', 'faves'] 5.004113953848985e-13\n",
      "Pwords ['yo', 'ur', 'faves'] 2.0036082947896535e-16\n",
      "Pwords ['you', 'r', 'faves'] 2.490545992279168e-12\n",
      "Pwords ['your', 'faves'] 3.115860419440386e-09\n",
      "Pwords ['yourf', 'aves'] 1.1359504127205585e-18\n",
      "Pwords ['yourfa', 'ves'] 9.960822863188322e-19\n",
      "Pwords ['yourfav', 'es'] 9.011381114069015e-17\n",
      "Pwords ['yourfave', 's'] 1.6338252631752372e-15\n",
      "Pwords ['yourfaves'] 1.7003210642847526e-12\n",
      "[['n', 'your', 'faves'], ['ny', 'our', 'faves'], ['nyo', 'ur', 'faves'], ['nyou', 'r', 'faves'], ['nyour', 'faves'], ['nyourf', 'aves'], ['nyourfa', 'ves'], ['nyourfav', 'es'], ['nyourfave', 's'], ['nyourfaves']]\n",
      "Pwords ['n', 'your', 'faves'] 2.3203032059660656e-12\n",
      "Pwords ['ny', 'our', 'faves'] 1.9500292114418166e-13\n",
      "Pwords ['nyo', 'ur', 'faves'] 4.226830068392979e-18\n",
      "Pwords ['nyou', 'r', 'faves'] 1.1160230377715614e-17\n",
      "Pwords ['nyour', 'faves'] 1.5110377615957641e-18\n",
      "Pwords ['nyourf', 'aves'] 1.1359504127205585e-18\n",
      "Pwords ['nyourfa', 'ves'] 9.960822863188322e-19\n",
      "Pwords ['nyourfav', 'es'] 9.011381114069015e-17\n",
      "Pwords ['nyourfave', 's'] 1.6338252631752372e-15\n",
      "Pwords ['nyourfaves'] 1.7003210642847526e-12\n",
      "[['o', 'n', 'your', 'faves'], ['on', 'your', 'faves'], ['ony', 'our', 'faves'], ['onyo', 'ur', 'faves'], ['onyou', 'r', 'faves'], ['onyour', 'faves'], ['onyourf', 'aves'], ['onyourfa', 'ves'], ['onyourfav', 'es'], ['onyourfave', 's'], ['onyourfaves']]\n",
      "Pwords ['o', 'n', 'your', 'faves'] 9.72229782761553e-16\n",
      "Pwords ['on', 'your', 'faves'] 1.986960373473393e-11\n",
      "Pwords ['ony', 'our', 'faves'] 4.080340593863922e-16\n",
      "Pwords ['onyo', 'ur', 'faves'] 2.0459993554349096e-23\n",
      "Pwords ['onyou', 'r', 'faves'] 8.312401592220777e-22\n",
      "Pwords ['onyour', 'faves'] 1.5110377615957641e-18\n",
      "Pwords ['onyourf', 'aves'] 1.1359504127205585e-18\n",
      "Pwords ['onyourfa', 'ves'] 9.960822863188322e-19\n",
      "Pwords ['onyourfav', 'es'] 9.011381114069015e-17\n",
      "Pwords ['onyourfave', 's'] 1.6338252631752372e-15\n",
      "Pwords ['onyourfaves'] 1.7003210642847526e-12\n",
      "[['i', 'on', 'your', 'faves'], ['io', 'n', 'your', 'faves'], ['ion', 'your', 'faves'], ['iony', 'our', 'faves'], ['ionyo', 'ur', 'faves'], ['ionyou', 'r', 'faves'], ['ionyour', 'faves'], ['ionyourf', 'aves'], ['ionyourfa', 'ves'], ['ionyourfav', 'es'], ['ionyourfave', 's'], ['ionyourfaves']]\n",
      "Pwords ['i', 'on', 'your', 'faves'] 1.0426721292078651e-13\n",
      "Pwords ['io', 'n', 'your', 'faves'] 2.3336633561979745e-17\n",
      "Pwords ['ion', 'your', 'faves'] 6.396854426375323e-14\n",
      "Pwords ['iony', 'our', 'faves'] 2.566058281050438e-21\n",
      "Pwords ['ionyo', 'ur', 'faves'] 2.0459993554349096e-23\n",
      "Pwords ['ionyou', 'r', 'faves'] 8.312401592220777e-22\n",
      "Pwords ['ionyour', 'faves'] 1.5110377615957641e-18\n",
      "Pwords ['ionyourf', 'aves'] 1.1359504127205585e-18\n",
      "Pwords ['ionyourfa', 'ves'] 9.960822863188322e-19\n",
      "Pwords ['ionyourfav', 'es'] 9.011381114069015e-17\n",
      "Pwords ['ionyourfave', 's'] 1.6338252631752372e-15\n",
      "Pwords ['ionyourfaves'] 1.7003210642847526e-12\n",
      "[['t', 'ionyourfaves'], ['ti', 'on', 'your', 'faves'], ['tio', 'n', 'your', 'faves'], ['tion', 'your', 'faves'], ['tiony', 'our', 'faves'], ['tionyo', 'ur', 'faves'], ['tionyou', 'r', 'faves'], ['tionyour', 'faves'], ['tionyourf', 'aves'], ['tionyourfa', 'ves'], ['tionyourfav', 'es'], ['tionyourfave', 's'], ['tionyourfaves']]\n",
      "Pwords ['t', 'ionyourfaves'] 1.1230388491313186e-15\n",
      "Pwords ['ti', 'on', 'your', 'faves'] 3.4782412050639856e-16\n",
      "Pwords ['tio', 'n', 'your', 'faves'] 3.0386119560666992e-18\n",
      "Pwords ['tion', 'your', 'faves'] 7.94400852566588e-14\n",
      "Pwords ['tiony', 'our', 'faves'] 2.566058281050438e-21\n",
      "Pwords ['tionyo', 'ur', 'faves'] 2.0459993554349096e-23\n",
      "Pwords ['tionyou', 'r', 'faves'] 8.312401592220777e-22\n",
      "Pwords ['tionyour', 'faves'] 1.5110377615957641e-18\n",
      "Pwords ['tionyourf', 'aves'] 1.1359504127205585e-18\n",
      "Pwords ['tionyourfa', 'ves'] 9.960822863188322e-19\n",
      "Pwords ['tionyourfav', 'es'] 9.011381114069015e-17\n",
      "Pwords ['tionyourfave', 's'] 1.6338252631752372e-15\n",
      "Pwords ['tionyourfaves'] 1.7003210642847526e-12\n",
      "[['n', 'tionyourfaves'], ['nt', 'ionyourfaves'], ['nti', 'on', 'your', 'faves'], ['ntio', 'n', 'your', 'faves'], ['ntion', 'your', 'faves'], ['ntiony', 'our', 'faves'], ['ntionyo', 'ur', 'faves'], ['ntionyou', 'r', 'faves'], ['ntionyour', 'faves'], ['ntionyourf', 'aves'], ['ntionyourfa', 'ves'], ['ntionyourfav', 'es'], ['ntionyourfave', 's'], ['ntionyourfaves']]\n",
      "Pwords ['n', 'tionyourfaves'] 1.2661865056651413e-15\n",
      "Pwords ['nt', 'ionyourfaves'] 9.019862131634477e-17\n",
      "Pwords ['nti', 'on', 'your', 'faves'] 1.4960948825168262e-17\n",
      "Pwords ['ntio', 'n', 'your', 'faves'] 3.9452604166315444e-24\n",
      "Pwords ['ntion', 'your', 'faves'] 5.297963104545613e-21\n",
      "Pwords ['ntiony', 'our', 'faves'] 2.566058281050438e-21\n",
      "Pwords ['ntionyo', 'ur', 'faves'] 2.0459993554349096e-23\n",
      "Pwords ['ntionyou', 'r', 'faves'] 8.312401592220777e-22\n",
      "Pwords ['ntionyour', 'faves'] 1.5110377615957641e-18\n",
      "Pwords ['ntionyourf', 'aves'] 1.1359504127205585e-18\n",
      "Pwords ['ntionyourfa', 'ves'] 9.960822863188322e-19\n",
      "Pwords ['ntionyourfav', 'es'] 9.011381114069015e-17\n",
      "Pwords ['ntionyourfave', 's'] 1.6338252631752372e-15\n",
      "Pwords ['ntionyourfaves'] 1.7003210642847526e-12\n",
      "[['e', 'ntionyourfaves'], ['en', 'tionyourfaves'], ['ent', 'ionyourfaves'], ['enti', 'on', 'your', 'faves'], ['entio', 'n', 'your', 'faves'], ['ention', 'your', 'faves'], ['entiony', 'our', 'faves'], ['entionyo', 'ur', 'faves'], ['entionyou', 'r', 'faves'], ['entionyour', 'faves'], ['entionyourf', 'aves'], ['entionyourfa', 'ves'], ['entionyourfav', 'es'], ['entionyourfave', 's'], ['entionyourfaves']]\n",
      "Pwords ['e', 'ntionyourfaves'] 1.7146665163123618e-15\n",
      "Pwords ['en', 'tionyourfaves'] 2.6830371969935817e-16\n",
      "Pwords ['ent', 'ionyourfaves'] 3.4323344484064727e-17\n",
      "Pwords ['enti', 'on', 'your', 'faves'] 3.364247215787093e-18\n",
      "Pwords ['entio', 'n', 'your', 'faves'] 3.9452604166315444e-24\n",
      "Pwords ['ention', 'your', 'faves'] 7.839925802106599e-17\n",
      "Pwords ['entiony', 'our', 'faves'] 2.566058281050438e-21\n",
      "Pwords ['entionyo', 'ur', 'faves'] 2.0459993554349096e-23\n",
      "Pwords ['entionyou', 'r', 'faves'] 8.312401592220777e-22\n",
      "Pwords ['entionyour', 'faves'] 1.5110377615957641e-18\n",
      "Pwords ['entionyourf', 'aves'] 1.1359504127205585e-18\n",
      "Pwords ['entionyourfa', 'ves'] 9.960822863188322e-19\n",
      "Pwords ['entionyourfav', 'es'] 9.011381114069015e-17\n",
      "Pwords ['entionyourfave', 's'] 1.6338252631752372e-15\n",
      "Pwords ['entionyourfaves'] 1.7003210642847526e-12\n",
      "[['m', 'entionyourfaves'], ['me', 'ntionyourfaves'], ['men', 'tionyourfaves'], ['ment', 'ionyourfaves'], ['menti', 'on', 'your', 'faves'], ['mentio', 'n', 'your', 'faves'], ['mention', 'your', 'faves'], ['mentiony', 'our', 'faves'], ['mentionyo', 'ur', 'faves'], ['mentionyou', 'r', 'faves'], ['mentionyour', 'faves'], ['mentionyourf', 'aves'], ['mentionyourfa', 'ves'], ['mentionyourfav', 'es'], ['mentionyourfave', 's'], ['mentionyourfaves']]\n",
      "Pwords ['m', 'entionyourfaves'] 9.875502062913829e-16\n",
      "Pwords ['me', 'ntionyourfaves'] 1.6381436435134906e-15\n",
      "Pwords ['men', 'tionyourfaves'] 5.032188195613619e-16\n",
      "Pwords ['ment', 'ionyourfaves'] 2.1438069591849844e-17\n",
      "Pwords ['menti', 'on', 'your', 'faves'] 3.378470576915909e-23\n",
      "Pwords ['mentio', 'n', 'your', 'faves'] 3.9452604166315444e-24\n",
      "Pwords ['mention', 'your', 'faves'] 9.690756497568157e-14\n",
      "Pwords ['mentiony', 'our', 'faves'] 2.566058281050438e-21\n",
      "Pwords ['mentionyo', 'ur', 'faves'] 2.0459993554349096e-23\n",
      "Pwords ['mentionyou', 'r', 'faves'] 8.312401592220777e-22\n",
      "Pwords ['mentionyour', 'faves'] 1.5110377615957641e-18\n",
      "Pwords ['mentionyourf', 'aves'] 1.1359504127205585e-18\n",
      "Pwords ['mentionyourfa', 'ves'] 9.960822863188322e-19\n",
      "Pwords ['mentionyourfav', 'es'] 9.011381114069015e-17\n",
      "Pwords ['mentionyourfave', 's'] 1.6338252631752372e-15\n",
      "Pwords ['mentionyourfaves'] 1.7003210642847526e-12\n"
     ]
    },
    {
     "data": {
      "text/plain": [
       "['mentionyourfaves']"
      ]
     },
     "execution_count": 4,
     "metadata": {},
     "output_type": "execute_result"
    }
   ],
   "source": [
    "# Analysing the failure use\n",
    "segmenter = Segment(Pw)\n",
    "segmenter.segment(\"mentionyourfaves\".strip())"
   ]
  },
  {
   "cell_type": "markdown",
   "metadata": {},
   "source": [
    "## Consider the below part\n",
    "> Pwords ['i', 'on', 'your', 'faves'] 1.0426721292078651e-13\n",
    "Pwords ['io', 'n', 'your', 'faves'] 2.3336633561979745e-17\n",
    "Pwords ['ion', 'your', 'faves'] 6.396854426375323e-14\n",
    "Pwords ['iony', 'our', 'faves'] 2.566058281050438e-21\n",
    "Pwords ['ionyo', 'ur', 'faves'] 2.0459993554349096e-23\n",
    "Pwords ['ionyou', 'r', 'faves'] 8.312401592220777e-22\n",
    "Pwords ['ionyour', 'faves'] 1.5110377615957641e-18\n",
    "Pwords ['ionyourf', 'aves'] 1.1359504127205585e-18\n",
    "Pwords ['ionyourfa', 'ves'] 9.960822863188322e-19\n",
    "Pwords ['ionyourfav', 'es'] 9.011381114069015e-17\n",
    "Pwords ['ionyourfave', 's'] 1.6338252631752372e-15\n",
    "Pwords ['ionyourfaves'] 1.7003210642847526e-12\n",
    "[['t', 'ionyourfaves'], ['ti', 'on', 'your', 'faves'], ['tio', 'n', 'your', 'faves'], ['tion', 'your', 'faves'], ['tiony', 'our', 'faves'], ['tionyo', 'ur', 'faves'], ['tionyou', 'r', 'faves'], ['tionyour', 'faves'], ['tionyourf', 'aves'], ['tionyourfa', 'ves'], ['tionyourfav', 'es'], ['tionyourfave', 's'], ['tionyourfaves']]\n",
    "Pwords ['t', 'ionyourfaves'] 1.1230388491313186e-15\n",
    "\n",
    "It starts to go wront because of the following Probablities\n",
    "- Pwords ['ionyourfaves'] 1.7003210642847526e-12\n",
    "- Pwords ['i', 'on', 'your', 'faves'] 1.0426721292078651e-13\n",
    "\n",
    "Since we are assigning (lambda k, N: 1./N) for words not present in ngram, the above distribution is messed up. to handle this, i am assigning '0' to the words that are not present in ngrams.\n",
    "\n",
    "\n",
    ">After this the \n",
    "dev score increased from 0.82 to 0.98\n",
    "test score increased from 0.13 to 0.80"
   ]
  },
  {
   "cell_type": "code",
   "execution_count": 3,
   "metadata": {},
   "outputs": [],
   "source": [
    "from ensegment import *"
   ]
  },
  {
   "cell_type": "code",
   "execution_count": 20,
   "metadata": {},
   "outputs": [],
   "source": [
    "# Not accounted for integers\n",
    "def return_zero_for_missing_word(k,n):\n",
    "    return 0"
   ]
  },
  {
   "cell_type": "code",
   "execution_count": 23,
   "metadata": {
    "scrolled": true
   },
   "outputs": [
    {
     "name": "stdout",
     "output_type": "stream",
     "text": [
      "output :  mention your faves\n",
      "output :  m e n t i o n y o u r 5 faves\n"
     ]
    }
   ],
   "source": [
    "# Analysing the failure use\n",
    "Pw = Pdist(data=datafile(\"../data/count_1w.txt\"),missingfn=return_zero_for_missing_word)\n",
    "# Pw = Pdist(data=datafile(\"../data/count_1w.txt\"))\n",
    "segmenter = Segment(Pw)\n",
    "split_list = segmenter.segment(\"mentionyourfaves\".strip())\n",
    "print(\"output : \",\" \".join(split_list))\n",
    "\n",
    "split_list = segmenter.segment(\"mentionyour5faves\".strip())\n",
    "print(\"output : \",\" \".join(split_list))"
   ]
  },
  {
   "cell_type": "markdown",
   "metadata": {},
   "source": [
    "Integer is messing with the probablities assigned, So trying our different probablities for integer."
   ]
  },
  {
   "cell_type": "code",
   "execution_count": 28,
   "metadata": {},
   "outputs": [],
   "source": [
    "# Penalizing based on the length of the unknown word\n",
    "def return_scaled_prob_for_missing_word_with_int_handling(key,N):\n",
    "    try:\n",
    "        int(key)\n",
    "        return 1e-10\n",
    "    except:\n",
    "        return (1./N)**len(key)\n",
    "\n",
    "# zero if the words are not present\n",
    "def return_zero_prob_for_missing_word_with_int_handling(key,N):\n",
    "    try:\n",
    "        int(key)\n",
    "        return 1e-10\n",
    "    except:\n",
    "        return 0"
   ]
  },
  {
   "cell_type": "code",
   "execution_count": 29,
   "metadata": {},
   "outputs": [
    {
     "name": "stdout",
     "output_type": "stream",
     "text": [
      "output :  mention your faves\n",
      "output :  mention your 5 faves\n"
     ]
    }
   ],
   "source": [
    "# Analysing the failure use\n",
    "Pw = Pdist(data=datafile(\"../data/count_1w.txt\"),missingfn=return_zero_prob_for_missing_word_with_int_handling)\n",
    "# Pw = Pdist(data=datafile(\"../data/count_1w.txt\"))\n",
    "segmenter = Segment(Pw)\n",
    "split_list = segmenter.segment(\"mentionyourfaves\".strip())\n",
    "print(\"output : \",\" \".join(split_list))\n",
    "\n",
    "split_list = segmenter.segment(\"mentionyour5faves\".strip())\n",
    "print(\"output : \",\" \".join(split_list))"
   ]
  },
  {
   "cell_type": "markdown",
   "metadata": {},
   "source": [
    "Both the above methods seems to be working fine.\n",
    "\n",
    "dev.out score: 1.00\n",
    "test.out score: 0.97\n"
   ]
  }
 ],
 "metadata": {
  "kernelspec": {
   "display_name": "Python 3 (ipykernel)",
   "language": "python",
   "name": "python3"
  },
  "language_info": {
   "codemirror_mode": {
    "name": "ipython",
    "version": 3
   },
   "file_extension": ".py",
   "mimetype": "text/x-python",
   "name": "python",
   "nbconvert_exporter": "python",
   "pygments_lexer": "ipython3",
   "version": "3.10.12"
  }
 },
 "nbformat": 4,
 "nbformat_minor": 4
}
